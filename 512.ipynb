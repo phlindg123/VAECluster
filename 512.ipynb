{
 "cells": [
  {
   "cell_type": "code",
   "execution_count": 1,
   "id": "1f64db4c",
   "metadata": {},
   "outputs": [],
   "source": [
    "from models.vae import VAE\n",
    "import torch\n",
    "import pandas as pd\n",
    "import numpy as np\n",
    "import matplotlib.pyplot as plt\n",
    "import seaborn as sns; sns.set_style(\"whitegrid\")\n",
    "from trainer import Trainer\n",
    "from sklearn.model_selection import train_test_split\n",
    "from torch.utils.data import Dataset"
   ]
  },
  {
   "cell_type": "code",
   "execution_count": 2,
   "id": "3d3e1df6",
   "metadata": {},
   "outputs": [],
   "source": [
    "rows = []\n",
    "with open(\"data/dim512.txt\") as file:\n",
    "    for row in file:\n",
    "        r = [int(x) for x in row.split(\"   \") if x != \"\"]\n",
    "        rows.append(pd.Series(r))"
   ]
  },
  {
   "cell_type": "code",
   "execution_count": 10,
   "id": "6ec328b0",
   "metadata": {},
   "outputs": [],
   "source": [
    "data = pd.DataFrame(rows)\n",
    "train, test = train_test_split(data, test_size=0.3, shuffle=True)"
   ]
  },
  {
   "cell_type": "code",
   "execution_count": 11,
   "id": "6b06f937",
   "metadata": {},
   "outputs": [],
   "source": [
    "class Data(Dataset):\n",
    "    def __init__(self, X, y=None):\n",
    "        self.X = torch.from_numpy(X)\n",
    "        self.y = y\n",
    "        if y is not None:\n",
    "            self.y = torch.from_numpy(y)\n",
    "            \n",
    "    def __len__(self):\n",
    "        return len(self.X)\n",
    "    \n",
    "    def __getitem__(self, idx):\n",
    "        if self.y is not None:\n",
    "            return self.X[idx].float(), self.y[idx].long()\n",
    "        return self.X[idx].float()"
   ]
  },
  {
   "cell_type": "code",
   "execution_count": 12,
   "id": "02c4f7c0",
   "metadata": {},
   "outputs": [],
   "source": [
    "train = Data(train.values)\n",
    "test = Data(test.values)"
   ]
  },
  {
   "cell_type": "code",
   "execution_count": 13,
   "id": "e908251b",
   "metadata": {},
   "outputs": [],
   "source": [
    "vae = VAE(512, 2)\n",
    "t = Trainer(vae, train, test)"
   ]
  },
  {
   "cell_type": "code",
   "execution_count": 14,
   "id": "e8a8f2e7",
   "metadata": {},
   "outputs": [
    {
     "name": "stdout",
     "output_type": "stream",
     "text": [
      "Epoch: 0, Train: 1.906396416299165e+20, Test: 6804048336.0\n",
      "Epoch: 1, Train: 6301740048.0, Test: 5207852864.0\n",
      "Epoch: 2, Train: 4425487160.0, Test: 4005018348.0\n",
      "Epoch: 3, Train: 3749928024.0, Test: 3359834292.0\n",
      "Epoch: 4, Train: 3097418484.0, Test: 2947537536.0\n",
      "Epoch: 5, Train: 2883582368.0, Test: 2821609912.0\n",
      "Epoch: 6, Train: 2780764384.0, Test: 2738763908.0\n",
      "Epoch: 7, Train: 2707385600.0, Test: 2673131456.0\n",
      "Epoch: 8, Train: 2646342108.0, Test: 2616110144.0\n",
      "Epoch: 9, Train: 2589687480.0, Test: 2560319660.0\n",
      "Epoch: 10, Train: 2537531040.0, Test: 2512104244.0\n",
      "Epoch: 11, Train: 2492124476.0, Test: 2469526000.0\n",
      "Epoch: 12, Train: 2451015168.0, Test: 2429434604.0\n",
      "Epoch: 13, Train: 2412871376.0, Test: 2393879208.0\n",
      "Epoch: 14, Train: 2379123524.0, Test: 2362001564.0\n",
      "Epoch: 15, Train: 2348716628.0, Test: 2333159976.0\n",
      "Epoch: 16, Train: 2321161536.0, Test: 2307018928.0\n",
      "Epoch: 17, Train: 2296151904.0, Test: 2282780256.0\n",
      "Epoch: 18, Train: 2271590144.0, Test: 2258707904.0\n",
      "Epoch: 19, Train: 2249106220.0, Test: 2237610864.0\n"
     ]
    }
   ],
   "source": [
    "losses = t.fit(20)"
   ]
  },
  {
   "cell_type": "code",
   "execution_count": 16,
   "id": "e1930446",
   "metadata": {},
   "outputs": [],
   "source": [
    "X = []\n",
    "Y = []\n",
    "for i, x in enumerate(t.train_loader):\n",
    "    X.append(x.flatten(1))\n",
    "    #Y.append(y)\n",
    "    if i > 10:\n",
    "        break\n",
    "X = torch.cat(X)#.detach().numpy()\n",
    "#Y = torch.cat(Y)#.detach().numpy()"
   ]
  },
  {
   "cell_type": "code",
   "execution_count": 18,
   "id": "e670544f",
   "metadata": {},
   "outputs": [],
   "source": [
    "Z = vae.encode(X).detach().numpy()\n",
    "#y = Y.detach().numpy()"
   ]
  },
  {
   "cell_type": "code",
   "execution_count": 19,
   "id": "ffbf8df5",
   "metadata": {},
   "outputs": [
    {
     "data": {
      "text/plain": [
       "<AxesSubplot:>"
      ]
     },
     "execution_count": 19,
     "metadata": {},
     "output_type": "execute_result"
    },
    {
     "data": {
      "image/png": "[encoded data removed]",
      "text/plain": [
       "<Figure size 432x288 with 1 Axes>"
      ]
     },
     "metadata": {
      "needs_background": "light"
     },
     "output_type": "display_data"
    }
   ],
   "source": [
    "sns.scatterplot(x=Z[:,0], y = Z[:,1])"
   ]
  },
  {
   "cell_type": "code",
   "execution_count": null,
   "id": "09439999",
   "metadata": {},
   "outputs": [],
   "source": []
  }
 ],
 "metadata": {
  "kernelspec": {
   "display_name": "Python 3 (ipykernel)",
   "language": "python",
   "name": "python3"
  },
  "language_info": {
   "codemirror_mode": {
    "name": "ipython",
    "version": 3
   },
   "file_extension": ".py",
   "mimetype": "text/x-python",
   "name": "python",
   "nbconvert_exporter": "python",
   "pygments_lexer": "ipython3",
   "version": "3.9.12"
  }
 },
 "nbformat": 4,
 "nbformat_minor": 5
}
